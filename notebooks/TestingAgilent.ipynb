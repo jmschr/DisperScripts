{
 "cells": [
  {
   "cell_type": "code",
   "execution_count": 99,
   "id": "0ea2ab6b-886c-494c-a2af-50b6e458e9f4",
   "metadata": {},
   "outputs": [],
   "source": [
    "from experimentor.drivers.digilent.ad2 import AnalogDiscovery\n",
    "from experimentor.drivers.digilent.dwfconst import TriggerSource, AcquisitionMode"
   ]
  },
  {
   "cell_type": "code",
   "execution_count": 103,
   "id": "4f74b5da-acf2-426a-a573-19c5ec1bbf45",
   "metadata": {},
   "outputs": [],
   "source": [
    "ad = AnalogDiscovery()"
   ]
  },
  {
   "cell_type": "code",
   "execution_count": 104,
   "id": "37ba08cf-a6cf-4b0d-9f42-251ffa530426",
   "metadata": {},
   "outputs": [],
   "source": [
    "ad.initialize()"
   ]
  },
  {
   "cell_type": "code",
   "execution_count": 105,
   "id": "456203dc-d8bc-4b19-a47d-f5b1b8d56f54",
   "metadata": {},
   "outputs": [],
   "source": [
    "status = ad.analog_in_status()"
   ]
  },
  {
   "cell_type": "code",
   "execution_count": 106,
   "id": "be125bb1-5fdf-4eac-b665-2e14d599947f",
   "metadata": {},
   "outputs": [
    {
     "name": "stdout",
     "output_type": "stream",
     "text": [
      "Armed c_ubyte(1) c_ubyte(0)\n",
      "Config c_ubyte(4) c_ubyte(0)\n",
      "Done c_ubyte(2) c_ubyte(0)\n",
      "Prefill c_ubyte(5) c_ubyte(0)\n",
      "Ready c_ubyte(0) c_ubyte(0)\n",
      "InstrumentState - Ready\n"
     ]
    }
   ],
   "source": [
    "print(status)"
   ]
  },
  {
   "cell_type": "code",
   "execution_count": 107,
   "id": "88611eb1-9d42-48ea-a990-8ae867c86cf0",
   "metadata": {},
   "outputs": [],
   "source": [
    "ad.analog_in_channel_enable(0)\n",
    "ad.analog_in_channel_disable(1)"
   ]
  },
  {
   "cell_type": "code",
   "execution_count": 108,
   "id": "a6415017-4f3f-44b4-a343-5b2ec4925f6a",
   "metadata": {},
   "outputs": [],
   "source": [
    "status = ad.analog_in_status()"
   ]
  },
  {
   "cell_type": "code",
   "execution_count": 109,
   "id": "3bcf67cd-1d91-4124-96a8-f71cb5d5bcfe",
   "metadata": {},
   "outputs": [
    {
     "name": "stdout",
     "output_type": "stream",
     "text": [
      "Armed c_ubyte(1) c_ubyte(0)\n",
      "Config c_ubyte(4) c_ubyte(0)\n",
      "Done c_ubyte(2) c_ubyte(0)\n",
      "Prefill c_ubyte(5) c_ubyte(0)\n",
      "Ready c_ubyte(0) c_ubyte(0)\n",
      "InstrumentState - Ready\n"
     ]
    }
   ],
   "source": [
    "print(status)"
   ]
  },
  {
   "cell_type": "code",
   "execution_count": 8,
   "id": "1fe723ab-4ace-492a-8114-9560b7b8f5c4",
   "metadata": {},
   "outputs": [
    {
     "data": {
      "text/plain": [
       "(16, 8192)"
      ]
     },
     "execution_count": 8,
     "metadata": {},
     "output_type": "execute_result"
    }
   ],
   "source": [
    "ad.analog_in_buffer_size_info()"
   ]
  },
  {
   "cell_type": "code",
   "execution_count": 110,
   "id": "67dca5db-e81d-4794-8eb0-942f57dcad8a",
   "metadata": {},
   "outputs": [],
   "source": [
    "ad.analog_in_buffer_size_set(8192)"
   ]
  },
  {
   "cell_type": "code",
   "execution_count": 217,
   "id": "d059c9a2-80cf-430b-a2dd-aabe4788fae3",
   "metadata": {},
   "outputs": [
    {
     "data": {
      "text/plain": [
       "8192"
      ]
     },
     "execution_count": 217,
     "metadata": {},
     "output_type": "execute_result"
    }
   ],
   "source": [
    "ad.analog_in_buffer_size_get()"
   ]
  },
  {
   "cell_type": "code",
   "execution_count": 112,
   "id": "9e7882f3-c846-4f18-9229-697fd5c6cfa6",
   "metadata": {},
   "outputs": [],
   "source": [
    "ad.analog_in_acquisition_mode_set(AcquisitionMode(AcquisitionMode.acqmodeSingle))"
   ]
  },
  {
   "cell_type": "code",
   "execution_count": 155,
   "id": "2195146e-a977-4599-8f2b-1be3ac2b74f1",
   "metadata": {},
   "outputs": [
    {
     "name": "stdout",
     "output_type": "stream",
     "text": [
      "trigtypeEdge c_long(0) c_long(0)\n",
      "AnalogInTriggerMode - trigtypeEdge\n"
     ]
    }
   ],
   "source": [
    "print(ad.analog_in_trigger_type_get())"
   ]
  },
  {
   "cell_type": "code",
   "execution_count": 218,
   "id": "9a017021-c31d-43b7-8f24-33e5af955e3f",
   "metadata": {},
   "outputs": [
    {
     "name": "stdout",
     "output_type": "stream",
     "text": [
      "AnalogIn c_ubyte(4) c_long(0)\n",
      "AnalogOut1 c_ubyte(7) c_long(0)\n",
      "AnalogOut2 c_ubyte(8) c_long(0)\n",
      "AnalogOut3 c_ubyte(9) c_long(0)\n",
      "AnalogOut4 c_ubyte(10) c_long(0)\n",
      "DetectorAnalogIn c_ubyte(2) c_long(0)\n",
      "DetectorDigitalIn c_ubyte(3) c_long(0)\n",
      "DigitalIn c_ubyte(5) c_long(0)\n",
      "DigitalOut c_ubyte(6) c_long(0)\n",
      "External1 c_ubyte(11) c_long(0)\n",
      "External2 c_ubyte(12) c_long(0)\n",
      "External3 c_ubyte(13) c_long(0)\n",
      "External4 c_ubyte(14) c_long(0)\n",
      "High c_ubyte(15) c_long(0)\n",
      "Low c_ubyte(16) c_long(0)\n",
      "PC c_ubyte(1) c_long(0)\n",
      "none c_ubyte(0) c_long(0)\n",
      "TriggerSource - none\n"
     ]
    }
   ],
   "source": [
    "print(ad.analog_in_sampling_source_get())"
   ]
  },
  {
   "cell_type": "code",
   "execution_count": 219,
   "id": "42a31575-90e0-4c35-a212-3281d281f913",
   "metadata": {},
   "outputs": [],
   "source": [
    "ad.analog_in_sampling_source_set(TriggerSource(TriggerSource.AnalogIn))"
   ]
  },
  {
   "cell_type": "code",
   "execution_count": 156,
   "id": "f11dd231-69ff-40c1-ae9d-d8bb8d0e114f",
   "metadata": {},
   "outputs": [
    {
     "data": {
      "text/plain": [
       "0.0"
      ]
     },
     "execution_count": 156,
     "metadata": {},
     "output_type": "execute_result"
    }
   ],
   "source": [
    "ad.analog_in_trigger_holdoff_get()"
   ]
  },
  {
   "cell_type": "code",
   "execution_count": 157,
   "id": "b6dfea1d-7caf-4a8d-8929-f8172ce346d7",
   "metadata": {},
   "outputs": [
    {
     "data": {
      "text/plain": [
       "0.0"
      ]
     },
     "execution_count": 157,
     "metadata": {},
     "output_type": "execute_result"
    }
   ],
   "source": [
    "ad.analog_in_trigger_position_get()"
   ]
  },
  {
   "cell_type": "code",
   "execution_count": 158,
   "id": "735f05bb-097e-4484-8946-8499e583d371",
   "metadata": {},
   "outputs": [
    {
     "name": "stdout",
     "output_type": "stream",
     "text": [
      "AnalogIn c_ubyte(4) c_long(4)\n",
      "TriggerSource - AnalogIn\n"
     ]
    }
   ],
   "source": [
    "print(ad.analog_in_trigger_source_get())"
   ]
  },
  {
   "cell_type": "code",
   "execution_count": 159,
   "id": "f5498a5e-930b-4b17-b504-19a379d88a47",
   "metadata": {},
   "outputs": [
    {
     "name": "stdout",
     "output_type": "stream",
     "text": [
      "0.0\n"
     ]
    }
   ],
   "source": [
    "print(ad.analog_in_trigger_auto_timeout_get())"
   ]
  },
  {
   "cell_type": "code",
   "execution_count": 160,
   "id": "33b63f9c-109b-4470-a34a-d60b9aa7c709",
   "metadata": {},
   "outputs": [],
   "source": [
    "ad.analog_in_channel_range_set(0, 5)\n",
    "ad.analog_in_channel_offset_set(0, 0)"
   ]
  },
  {
   "cell_type": "code",
   "execution_count": 199,
   "id": "f1d97ae6-5ffc-4b88-b67d-6b7f11520252",
   "metadata": {},
   "outputs": [
    {
     "data": {
      "text/plain": [
       "100000000.0"
      ]
     },
     "execution_count": 199,
     "metadata": {},
     "output_type": "execute_result"
    }
   ],
   "source": [
    "ad.analog_in_frequency_get()"
   ]
  },
  {
   "cell_type": "code",
   "execution_count": 200,
   "id": "4265efbc-df22-4d84-a63c-728b8fc2f685",
   "metadata": {},
   "outputs": [
    {
     "data": {
      "text/plain": [
       "(0.05, 100000000.0)"
      ]
     },
     "execution_count": 200,
     "metadata": {},
     "output_type": "execute_result"
    }
   ],
   "source": [
    "ad.analog_in_frequency_info()"
   ]
  },
  {
   "cell_type": "code",
   "execution_count": 201,
   "id": "3bcb9f70-0520-499c-a177-4486d3fbe270",
   "metadata": {},
   "outputs": [],
   "source": [
    "ad.analog_in_frequency_set(10000000)"
   ]
  },
  {
   "cell_type": "code",
   "execution_count": 202,
   "id": "5e2b1c55-8d71-4835-9c26-27e251afe103",
   "metadata": {},
   "outputs": [
    {
     "data": {
      "text/plain": [
       "5.4799557977073405"
      ]
     },
     "execution_count": 202,
     "metadata": {},
     "output_type": "execute_result"
    }
   ],
   "source": [
    "ad.analog_in_channel_range_get(0)"
   ]
  },
  {
   "cell_type": "code",
   "execution_count": 203,
   "id": "ae53026c-a8da-4fe4-9a68-f7d03f8145f7",
   "metadata": {},
   "outputs": [
    {
     "data": {
      "text/plain": [
       "4.9252524517089113e-05"
      ]
     },
     "execution_count": 203,
     "metadata": {},
     "output_type": "execute_result"
    }
   ],
   "source": [
    "ad.analog_in_channel_offset_get(0)"
   ]
  },
  {
   "cell_type": "code",
   "execution_count": 220,
   "id": "0c33c5ff-0084-44b0-b91f-f632cb2c28e3",
   "metadata": {},
   "outputs": [],
   "source": [
    "ad.analog_in_trigger_source_set(TriggerSource(TriggerSource.AnalogIn))"
   ]
  },
  {
   "cell_type": "code",
   "execution_count": 221,
   "id": "5bfecedd-b4a5-4b22-8cbf-15de0c78f224",
   "metadata": {},
   "outputs": [],
   "source": [
    "ad.analog_in_trigger_channel_set(1)"
   ]
  },
  {
   "cell_type": "code",
   "execution_count": 222,
   "id": "bc14df38-b623-4933-a86d-d96aef2aa783",
   "metadata": {},
   "outputs": [],
   "source": [
    "ad.analog_in_trigger_level_set(1)"
   ]
  },
  {
   "cell_type": "code",
   "execution_count": 223,
   "id": "aea8bddc-1b07-47d7-9887-cd3d5ae544bb",
   "metadata": {},
   "outputs": [
    {
     "name": "stdout",
     "output_type": "stream",
     "text": [
      "TriggerSlopeEither c_long(2) c_long(0)\n",
      "TriggerSlopeFall c_long(1) c_long(0)\n",
      "TriggerSlopeRise c_long(0) c_long(0)\n",
      "TriggerSlope - TriggerSlopeRise\n"
     ]
    }
   ],
   "source": [
    "print(ad.analog_in_trigger_condition_get())"
   ]
  },
  {
   "cell_type": "code",
   "execution_count": 224,
   "id": "7fc8133e-55dc-40fd-a2ae-762991ebf8d6",
   "metadata": {},
   "outputs": [
    {
     "name": "stdout",
     "output_type": "stream",
     "text": [
      "Armed c_ubyte(1) c_ubyte(0)\n",
      "Config c_ubyte(4) c_ubyte(0)\n",
      "Done c_ubyte(2) c_ubyte(0)\n",
      "Prefill c_ubyte(5) c_ubyte(0)\n",
      "Ready c_ubyte(0) c_ubyte(0)\n",
      "InstrumentState - Ready\n"
     ]
    }
   ],
   "source": [
    "status = ad.analog_in_status()\n",
    "print(status)"
   ]
  },
  {
   "cell_type": "code",
   "execution_count": 225,
   "id": "5347cadb-8b7e-484b-bb92-e9f5284792be",
   "metadata": {},
   "outputs": [],
   "source": [
    "ad.analog_in_configure(start=1)"
   ]
  },
  {
   "cell_type": "code",
   "execution_count": 275,
   "id": "ba0efa2e-3d42-4a98-ad72-c8b52c2a0683",
   "metadata": {},
   "outputs": [
    {
     "name": "stdout",
     "output_type": "stream",
     "text": [
      "Armed c_ubyte(1) c_ubyte(5)\n",
      "Config c_ubyte(4) c_ubyte(5)\n",
      "Done c_ubyte(2) c_ubyte(5)\n",
      "Prefill c_ubyte(5) c_ubyte(5)\n",
      "InstrumentState - Prefill\n"
     ]
    }
   ],
   "source": [
    "status = ad.analog_in_status()\n",
    "print(status)"
   ]
  },
  {
   "cell_type": "code",
   "execution_count": 234,
   "id": "2dcd37bc-80ff-4f34-9348-9f714b6b469c",
   "metadata": {},
   "outputs": [
    {
     "name": "stdout",
     "output_type": "stream",
     "text": [
      "Armed c_ubyte(1) c_ubyte(5)\n",
      "Config c_ubyte(4) c_ubyte(5)\n",
      "Done c_ubyte(2) c_ubyte(5)\n",
      "Prefill c_ubyte(5) c_ubyte(5)\n",
      "InstrumentState - Prefill\n"
     ]
    }
   ],
   "source": [
    "status = ad.analog_in_status()\n",
    "print(status)"
   ]
  },
  {
   "cell_type": "code",
   "execution_count": 228,
   "id": "54e7a178-d7cf-43c6-a1aa-ee27c41eee74",
   "metadata": {},
   "outputs": [
    {
     "name": "stdout",
     "output_type": "stream",
     "text": [
      "trigtypeEdge c_long(0) c_long(0)\n",
      "AnalogInTriggerMode - trigtypeEdge\n"
     ]
    }
   ],
   "source": [
    "print(ad.analog_in_trigger_type_get())"
   ]
  },
  {
   "cell_type": "code",
   "execution_count": 97,
   "id": "d88da854-221c-4f9e-baed-8b4c394cd3b4",
   "metadata": {},
   "outputs": [],
   "source": [
    "ad.close()"
   ]
  },
  {
   "cell_type": "code",
   "execution_count": null,
   "id": "51577574-6d73-48dc-9c6e-e84a7295577c",
   "metadata": {},
   "outputs": [],
   "source": []
  }
 ],
 "metadata": {
  "kernelspec": {
   "display_name": "Python 3 (ipykernel)",
   "language": "python",
   "name": "python3"
  },
  "language_info": {
   "codemirror_mode": {
    "name": "ipython",
    "version": 3
   },
   "file_extension": ".py",
   "mimetype": "text/x-python",
   "name": "python",
   "nbconvert_exporter": "python",
   "pygments_lexer": "ipython3",
   "version": "3.8.10"
  }
 },
 "nbformat": 4,
 "nbformat_minor": 5
}
