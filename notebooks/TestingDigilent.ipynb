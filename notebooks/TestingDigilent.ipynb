{
 "cells": [
  {
   "cell_type": "code",
   "execution_count": 1,
   "id": "0ea2ab6b-886c-494c-a2af-50b6e458e9f4",
   "metadata": {},
   "outputs": [],
   "source": [
    "from experimentor.drivers.digilent.ad2 import AnalogDiscovery\n",
    "from experimentor.drivers.digilent.dwfconst import TriggerSource, AcquisitionMode, TriggerCondition"
   ]
  },
  {
   "cell_type": "code",
   "execution_count": 2,
   "id": "4f74b5da-acf2-426a-a573-19c5ec1bbf45",
   "metadata": {},
   "outputs": [],
   "source": [
    "ad = AnalogDiscovery()"
   ]
  },
  {
   "cell_type": "code",
   "execution_count": 3,
   "id": "37ba08cf-a6cf-4b0d-9f42-251ffa530426",
   "metadata": {},
   "outputs": [],
   "source": [
    "ad.initialize()"
   ]
  },
  {
   "cell_type": "code",
   "execution_count": 4,
   "id": "456203dc-d8bc-4b19-a47d-f5b1b8d56f54",
   "metadata": {},
   "outputs": [
    {
     "name": "stdout",
     "output_type": "stream",
     "text": [
      "Armed c_ubyte(1) c_ubyte(0)\n",
      "Config c_ubyte(4) c_ubyte(0)\n",
      "Done c_ubyte(2) c_ubyte(0)\n",
      "Prefill c_ubyte(5) c_ubyte(0)\n",
      "Ready c_ubyte(0) c_ubyte(0)\n",
      "InstrumentState - Ready\n"
     ]
    }
   ],
   "source": [
    "status = ad.analog_in_status()\n",
    "print(status)"
   ]
  },
  {
   "cell_type": "code",
   "execution_count": 5,
   "id": "88611eb1-9d42-48ea-a990-8ae867c86cf0",
   "metadata": {},
   "outputs": [],
   "source": [
    "ad.analog_in_channel_enable(0)"
   ]
  },
  {
   "cell_type": "code",
   "execution_count": 6,
   "id": "a6415017-4f3f-44b4-a343-5b2ec4925f6a",
   "metadata": {},
   "outputs": [
    {
     "name": "stdout",
     "output_type": "stream",
     "text": [
      "Armed c_ubyte(1) c_ubyte(0)\n",
      "Config c_ubyte(4) c_ubyte(0)\n",
      "Done c_ubyte(2) c_ubyte(0)\n",
      "Prefill c_ubyte(5) c_ubyte(0)\n",
      "Ready c_ubyte(0) c_ubyte(0)\n",
      "InstrumentState - Ready\n"
     ]
    }
   ],
   "source": [
    "status = ad.analog_in_status()\n",
    "print(status)"
   ]
  },
  {
   "cell_type": "code",
   "execution_count": 7,
   "id": "3bcf67cd-1d91-4124-96a8-f71cb5d5bcfe",
   "metadata": {},
   "outputs": [],
   "source": [
    "ad.analog_in_buffer_size_set(8192)"
   ]
  },
  {
   "cell_type": "code",
   "execution_count": 37,
   "id": "9e7882f3-c846-4f18-9229-697fd5c6cfa6",
   "metadata": {},
   "outputs": [],
   "source": [
    "ad.analog_in_acquisition_mode_set(AcquisitionMode(AcquisitionMode.acqmodeSingle))"
   ]
  },
  {
   "cell_type": "code",
   "execution_count": 65,
   "id": "2d0e97f4-df88-40df-8cad-6f89c2eb25de",
   "metadata": {},
   "outputs": [
    {
     "name": "stdout",
     "output_type": "stream",
     "text": [
      "acqmodeOvers c_long(4) c_long(0)\n",
      "acqmodeRecord c_long(3) c_long(0)\n",
      "acqmodeScanScreen c_long(2) c_long(0)\n",
      "acqmodeScanShift c_long(1) c_long(0)\n",
      "acqmodeSingle c_long(0) c_long(0)\n",
      "AcquisitionMode - acqmodeSingle\n"
     ]
    }
   ],
   "source": [
    "print(ad.analog_in_acquisition_mode_get())"
   ]
  },
  {
   "cell_type": "code",
   "execution_count": 7,
   "id": "33b63f9c-109b-4470-a34a-d60b9aa7c709",
   "metadata": {},
   "outputs": [],
   "source": [
    "ad.analog_in_channel_range_set(0, 5)\n",
    "ad.analog_in_channel_offset_set(0, 0)"
   ]
  },
  {
   "cell_type": "code",
   "execution_count": 54,
   "id": "3bcb9f70-0520-499c-a177-4486d3fbe270",
   "metadata": {},
   "outputs": [],
   "source": [
    "ad.analog_in_frequency_set(20e06)"
   ]
  },
  {
   "cell_type": "code",
   "execution_count": 55,
   "id": "0c33c5ff-0084-44b0-b91f-f632cb2c28e3",
   "metadata": {},
   "outputs": [],
   "source": [
    "ad.analog_in_trigger_source_set(TriggerSource(TriggerSource.AnalogIn))"
   ]
  },
  {
   "cell_type": "code",
   "execution_count": 56,
   "id": "5bfecedd-b4a5-4b22-8cbf-15de0c78f224",
   "metadata": {},
   "outputs": [],
   "source": [
    "ad.analog_in_trigger_channel_set(1)"
   ]
  },
  {
   "cell_type": "code",
   "execution_count": 57,
   "id": "bc14df38-b623-4933-a86d-d96aef2aa783",
   "metadata": {},
   "outputs": [],
   "source": [
    "ad.analog_in_trigger_level_set(1.)"
   ]
  },
  {
   "cell_type": "code",
   "execution_count": 58,
   "id": "cb4808a3-c2c9-4a8e-a6e0-456c7420e702",
   "metadata": {},
   "outputs": [],
   "source": [
    "ad.analog_in_trigger_auto_timeout_set(0)"
   ]
  },
  {
   "cell_type": "code",
   "execution_count": 59,
   "id": "57b6159d-155f-4f58-bd97-0a1f975c4100",
   "metadata": {},
   "outputs": [],
   "source": [
    "ad.analog_in_trigger_condition_set(TriggerCondition(TriggerCondition.trigcondRisingPositive))"
   ]
  },
  {
   "cell_type": "code",
   "execution_count": 60,
   "id": "7fc8133e-55dc-40fd-a2ae-762991ebf8d6",
   "metadata": {},
   "outputs": [
    {
     "name": "stdout",
     "output_type": "stream",
     "text": [
      "Armed c_ubyte(1) c_ubyte(0)\n",
      "Config c_ubyte(4) c_ubyte(0)\n",
      "Done c_ubyte(2) c_ubyte(0)\n",
      "Prefill c_ubyte(5) c_ubyte(0)\n",
      "Ready c_ubyte(0) c_ubyte(0)\n",
      "InstrumentState - Ready\n"
     ]
    }
   ],
   "source": [
    "status = ad.analog_in_status()\n",
    "print(status)"
   ]
  },
  {
   "cell_type": "code",
   "execution_count": 61,
   "id": "5347cadb-8b7e-484b-bb92-e9f5284792be",
   "metadata": {},
   "outputs": [],
   "source": [
    "ad.analog_in_configure(reconfigure=False, start=True)"
   ]
  },
  {
   "cell_type": "code",
   "execution_count": 72,
   "id": "ba0efa2e-3d42-4a98-ad72-c8b52c2a0683",
   "metadata": {},
   "outputs": [
    {
     "name": "stdout",
     "output_type": "stream",
     "text": [
      "Armed c_ubyte(1) c_ubyte(1)\n",
      "InstrumentState - Armed\n"
     ]
    }
   ],
   "source": [
    "status = ad.analog_in_status()\n",
    "print(status)"
   ]
  },
  {
   "cell_type": "code",
   "execution_count": 73,
   "id": "2dcd37bc-80ff-4f34-9348-9f714b6b469c",
   "metadata": {},
   "outputs": [
    {
     "name": "stdout",
     "output_type": "stream",
     "text": [
      "Armed c_ubyte(1) c_ubyte(1)\n",
      "InstrumentState - Armed\n"
     ]
    }
   ],
   "source": [
    "status = ad.analog_in_status(read_data=True)\n",
    "print(status)"
   ]
  },
  {
   "cell_type": "code",
   "execution_count": 52,
   "id": "54e7a178-d7cf-43c6-a1aa-ee27c41eee74",
   "metadata": {},
   "outputs": [
    {
     "name": "stdout",
     "output_type": "stream",
     "text": [
      "trigtypeEdge c_long(0) c_long(0)\n",
      "AnalogInTriggerMode - trigtypeEdge\n"
     ]
    }
   ],
   "source": [
    "print(ad.analog_in_trigger_type_get())"
   ]
  },
  {
   "cell_type": "code",
   "execution_count": 47,
   "id": "d88da854-221c-4f9e-baed-8b4c394cd3b4",
   "metadata": {},
   "outputs": [],
   "source": [
    "ad.close()"
   ]
  },
  {
   "cell_type": "code",
   "execution_count": 48,
   "id": "51577574-6d73-48dc-9c6e-e84a7295577c",
   "metadata": {},
   "outputs": [],
   "source": [
    "import ctypes                     # import the C compatible data types\n",
    "from sys import platform, path    # this is needed to check the OS type and get the PATH\n",
    "from os import sep                # OS specific file path separators\n",
    "\n",
    "# load the dynamic library, get constants path (the path is OS specific)\n",
    "if platform.startswith(\"win\"):\n",
    "    # on Windows\n",
    "    dwf = ctypes.cdll.dwf\n",
    "    constants_path = \"C:\" + sep + \"Program Files (x86)\" + sep + \"Digilent\" + sep + \"WaveFormsSDK\" + sep + \"samples\" + sep + \"py\"\n",
    "elif platform.startswith(\"darwin\"):\n",
    "    # on macOS\n",
    "    lib_path = sep + \"Library\" + sep + \"Frameworks\" + sep + \"dwf.framework\" + sep + \"dwf\"\n",
    "    dwf = ctypes.cdll.LoadLibrary(lib_path)\n",
    "    constants_path = sep + \"Applications\" + sep + \"WaveForms.app\" + sep + \"Contents\" + sep + \"Resources\" + sep + \"SDK\" + sep + \"samples\" + sep + \"py\"\n",
    "else:\n",
    "    # on Linux\n",
    "    dwf = ctypes.cdll.LoadLibrary(\"libdwf.so\")\n",
    "    constants_path = sep + \"usr\" + sep + \"share\" + sep + \"digilent\" + sep + \"waveforms\" + sep + \"samples\" + sep + \"py\"\n",
    "\n",
    "# import constants\n",
    "path.append(constants_path)\n",
    "import dwfconstants as constants"
   ]
  },
  {
   "cell_type": "code",
   "execution_count": 49,
   "id": "1996d54c-f7c9-4085-aa8c-677e54a0fecd",
   "metadata": {},
   "outputs": [],
   "source": [
    "def dh():\n",
    "    '''\n",
    "        open the first available device\n",
    "    '''\n",
    "    # this is the device handle - it will be used by all functions to \"address\" the connected device\n",
    "    device_handle = ctypes.c_int()\n",
    "\n",
    "    # connect to the first available device\n",
    "    dwf.FDwfDeviceOpen(ctypes.c_int(-1), ctypes.byref(device_handle))\n",
    "    return device_handle\n",
    "device_handle = dh()"
   ]
  },
  {
   "cell_type": "code",
   "execution_count": null,
   "id": "038b76e6-696c-4260-8d82-fbd0c810a70b",
   "metadata": {},
   "outputs": [],
   "source": [
    "def open(device_handle, sampling_frequency=20e06, buffer_size=8192, offset=0, amplitude_range=5):\n",
    "    \"\"\"\n",
    "        initialize the oscilloscope\n",
    "\n",
    "        parameters: - device handle\n",
    "                    - sampling frequency in Hz, default is 20MHz\n",
    "                    - buffer size, default is 8192\n",
    "                    - offset voltage in Volts, default is 0V\n",
    "                    - amplitude range in Volts, default is ±5V\n",
    "    \"\"\"\n",
    "    # enable all channels\n",
    "    dwf.FDwfAnalogInChannelEnableSet(device_handle, ctypes.c_int(0), ctypes.c_bool(True))\n",
    "    \n",
    "    # set offset voltage (in Volts)\n",
    "    dwf.FDwfAnalogInChannelOffsetSet(device_handle, ctypes.c_int(0), ctypes.c_double(offset))\n",
    "    \n",
    "    # set range (maximum signal amplitude in Volts)\n",
    "    dwf.FDwfAnalogInChannelRangeSet(device_handle, ctypes.c_int(0), ctypes.c_double(amplitude_range))\n",
    "    \n",
    "    # set the buffer size (data point in a recording)\n",
    "    dwf.FDwfAnalogInBufferSizeSet(device_handle, ctypes.c_int(buffer_size))\n",
    "    \n",
    "    # set the acquisition frequency (in Hz)\n",
    "    dwf.FDwfAnalogInFrequencySet(device_handle, ctypes.c_double(sampling_frequency))\n",
    "    \n",
    "    # disable averaging (for more info check the documentation)\n",
    "    dwf.FDwfAnalogInChannelFilterSet(device_handle, ctypes.c_int(-1), constants.filterDecimate)\n",
    "    return\n"
   ]
  },
  {
   "cell_type": "code",
   "execution_count": null,
   "id": "8280b505-5d3a-4f7c-a802-58b42bdaa1b1",
   "metadata": {},
   "outputs": [],
   "source": [
    "dh = open(dh)"
   ]
  },
  {
   "cell_type": "code",
   "execution_count": null,
   "id": "dcae19e6-6075-4bef-88e8-8f600aef192f",
   "metadata": {},
   "outputs": [],
   "source": [
    "def measure(device_handle, channel):\n",
    "    \"\"\"\n",
    "        measure a voltage\n",
    "\n",
    "        parameters: - device handler\n",
    "                    - the selected oscilloscope channel (1-2, or 1-4)\n",
    "        \n",
    "        returns:    - the measured voltage in Volts\n",
    "    \"\"\"\n",
    "    # set up the instrument\n",
    "    dwf.FDwfAnalogInConfigure(device_handle, ctypes.c_bool(False), ctypes.c_bool(False))\n",
    "    \n",
    "    # read data to an internal buffer\n",
    "    dwf.FDwfAnalogInStatus(device_handle, ctypes.c_bool(False), ctypes.c_int(0))\n",
    "    \n",
    "    # extract data from that buffer\n",
    "    voltage = ctypes.c_double()   # variable to store the measured voltage\n",
    "    dwf.FDwfAnalogInStatusSample(device_handle, ctypes.c_int(channel - 1), ctypes.byref(voltage))\n",
    "    \n",
    "    # store the result as float\n",
    "    voltage = voltage.value\n",
    "    return voltage"
   ]
  },
  {
   "cell_type": "code",
   "execution_count": null,
   "id": "a3b61ae6-0ab7-4900-b4dd-fc154f7c091e",
   "metadata": {},
   "outputs": [],
   "source": [
    "measure(dh, 2)"
   ]
  },
  {
   "cell_type": "code",
   "execution_count": null,
   "id": "2a67599b-da41-4b0d-a419-af2da0677331",
   "metadata": {},
   "outputs": [],
   "source": [
    "def record(device_handle, channel, sampling_frequency=20e06, buffer_size=8192):\n",
    "    \"\"\"\n",
    "        record an analog signal\n",
    "\n",
    "        parameters: - device handle\n",
    "                    - the selected oscilloscope channel (1-2, or 1-4)\n",
    "                    - sampling frequency in Hz, default is 20MHz\n",
    "                    - buffer size, default is 8192\n",
    "\n",
    "        returns:    - buffer - a list with the recorded voltages\n",
    "                    - time - a list with the time moments for each voltage in seconds (with the same index as \"buffer\")\n",
    "    \"\"\"\n",
    "    # set up the instrument\n",
    "    dwf.FDwfAnalogInConfigure(device_handle, ctypes.c_bool(False), ctypes.c_bool(True))\n",
    "    \n",
    "    # read data to an internal buffer\n",
    "    while True:\n",
    "        status = ctypes.c_byte()    # variable to store buffer status\n",
    "        dwf.FDwfAnalogInStatus(device_handle, ctypes.c_bool(True), ctypes.byref(status))\n",
    "    \n",
    "        # check internal buffer status\n",
    "        if status.value == constants.DwfStateDone.value:\n",
    "                # exit loop when ready\n",
    "                break\n",
    "    \n",
    "    # copy buffer\n",
    "    buffer = (ctypes.c_double * buffer_size)()   # create an empty buffer\n",
    "    dwf.FDwfAnalogInStatusData(device_handle, ctypes.c_int(channel - 1), buffer, ctypes.c_int(buffer_size))\n",
    "    \n",
    "    # calculate aquisition time\n",
    "    time = range(0, buffer_size)\n",
    "    time = [moment / sampling_frequency for moment in time]\n",
    "    \n",
    "    # convert into list\n",
    "    buffer = [float(element) for element in buffer]\n",
    "    return buffer, time\n"
   ]
  },
  {
   "cell_type": "code",
   "execution_count": null,
   "id": "0e56e285-9ad4-42c6-8802-31ccf8d7198a",
   "metadata": {},
   "outputs": [],
   "source": [
    "b, t = record(dh, 1)"
   ]
  },
  {
   "cell_type": "code",
   "execution_count": 905,
   "id": "1bb01410-b27e-4d94-90b5-dbedfbafe626",
   "metadata": {},
   "outputs": [],
   "source": [
    "import matplotlib.pyplot as plt"
   ]
  },
  {
   "cell_type": "code",
   "execution_count": null,
   "id": "8ab49e4d-4310-4ebf-8ce2-ee020ceca6d1",
   "metadata": {},
   "outputs": [],
   "source": [
    "dwf.FDwfAnalogInConfigure(dh, ctypes.c_bool(False), ctypes.c_bool(True))"
   ]
  },
  {
   "cell_type": "code",
   "execution_count": null,
   "id": "325c9a6f-8699-46c9-8ae3-4c2ddb37e566",
   "metadata": {},
   "outputs": [],
   "source": [
    "status = ctypes.c_byte()\n",
    "dwf.FDwfAnalogInStatus(dh, ctypes.c_bool(True), ctypes.byref(status))\n",
    "print(status.value)"
   ]
  },
  {
   "cell_type": "code",
   "execution_count": null,
   "id": "6470ddd1-2ca4-47da-9a0b-13c954b9b15a",
   "metadata": {},
   "outputs": [],
   "source": [
    "dwf.FDwfAnalogInReset(dh)"
   ]
  },
  {
   "cell_type": "code",
   "execution_count": 4,
   "id": "99318a4e-776d-4ba6-ad69-bf64c5bba08a",
   "metadata": {},
   "outputs": [],
   "source": [
    "class trigger_source:\n",
    "    \"\"\" trigger source names \"\"\"\n",
    "    none = constants.trigsrcNone\n",
    "    analog = constants.trigsrcDetectorAnalogIn\n",
    "    digital = constants.trigsrcDetectorDigitalIn\n",
    "    external = [None, constants.trigsrcExternal1, constants.trigsrcExternal2, constants.trigsrcExternal3, constants.trigsrcExternal4]\n"
   ]
  },
  {
   "cell_type": "code",
   "execution_count": null,
   "id": "684e4f9f-d1c3-43a8-af27-66d21f561d82",
   "metadata": {},
   "outputs": [],
   "source": [
    "def trigger(device_handle, enable, source=trigger_source.none, channel=1, timeout=0, edge_rising=True, level=0):\n",
    "    \"\"\"\n",
    "        set up triggering\n",
    "\n",
    "        parameters: - device handle\n",
    "                    - enable / disable triggering with True/False\n",
    "                    - trigger source - possible: none, analog, digital, external[1-4]\n",
    "                    - trigger channel - possible options: 1-4 for analog, or 0-15 for digital\n",
    "                    - auto trigger timeout in seconds, default is 0\n",
    "                    - trigger edge rising - True means rising, False means falling, default is rising\n",
    "                    - trigger level in Volts, default is 0V\n",
    "    \"\"\"\n",
    "    if enable and source != constants.trigsrcNone:\n",
    "        # enable/disable auto triggering\n",
    "        dwf.FDwfAnalogInTriggerAutoTimeoutSet(device_handle, ctypes.c_double(timeout))\n",
    "\n",
    "        # set trigger source\n",
    "        dwf.FDwfAnalogInTriggerSourceSet(device_handle, source)\n",
    "\n",
    "        # set trigger channel\n",
    "        if source == constants.trigsrcDetectorAnalogIn:\n",
    "            channel -= 1    # decrement analog channel index\n",
    "        dwf.FDwfAnalogInTriggerChannelSet(device_handle, ctypes.c_int(channel))\n",
    "\n",
    "        # set trigger type\n",
    "        dwf.FDwfAnalogInTriggerTypeSet(device_handle, constants.trigtypeEdge)\n",
    "\n",
    "        # set trigger level\n",
    "        dwf.FDwfAnalogInTriggerLevelSet(device_handle, ctypes.c_double(level))\n",
    "\n",
    "        # set trigger edge\n",
    "        if edge_rising:\n",
    "            # rising edge\n",
    "            dwf.FDwfAnalogInTriggerConditionSet(device_handle, constants.trigcondRisingPositive)\n",
    "        else:\n",
    "            # falling edge\n",
    "            dwf.FDwfAnalogInTriggerConditionSet(device_handle, constants.trigcondFallingNegative)\n",
    "    else:\n",
    "        # turn off the trigger\n",
    "        dwf.FDwfAnalogInTriggerSourceSet(device_handle, constants.trigsrcNone)\n",
    "    return"
   ]
  },
  {
   "cell_type": "code",
   "execution_count": 64,
   "id": "45ea56f6-7062-4d96-9a52-2320190b86d3",
   "metadata": {},
   "outputs": [
    {
     "data": {
      "text/plain": [
       "1"
      ]
     },
     "execution_count": 64,
     "metadata": {},
     "output_type": "execute_result"
    }
   ],
   "source": [
    "dwf.FDwfDeviceClose(device_handle)"
   ]
  },
  {
   "cell_type": "code",
   "execution_count": 906,
   "id": "2f41142c-a175-4b84-9028-a6e324fb1474",
   "metadata": {},
   "outputs": [
    {
     "data": {
      "text/plain": [
       "1"
      ]
     },
     "execution_count": 906,
     "metadata": {},
     "output_type": "execute_result"
    }
   ],
   "source": [
    "dwf.FDwfAnalogInChannelEnableSet(device_handle, ctypes.c_int(0), ctypes.c_bool(True))"
   ]
  },
  {
   "cell_type": "code",
   "execution_count": 907,
   "id": "47915bc5-9dab-4185-aa8f-2b48660d2efc",
   "metadata": {},
   "outputs": [
    {
     "data": {
      "text/plain": [
       "1"
      ]
     },
     "execution_count": 907,
     "metadata": {},
     "output_type": "execute_result"
    }
   ],
   "source": [
    "dwf.FDwfAnalogInChannelOffsetSet(device_handle, ctypes.c_int(0), ctypes.c_double(0))"
   ]
  },
  {
   "cell_type": "code",
   "execution_count": 908,
   "id": "bfa3e73f-3fe2-4e40-adb4-933276df0baf",
   "metadata": {},
   "outputs": [
    {
     "data": {
      "text/plain": [
       "1"
      ]
     },
     "execution_count": 908,
     "metadata": {},
     "output_type": "execute_result"
    }
   ],
   "source": [
    "dwf.FDwfAnalogInChannelRangeSet(device_handle, ctypes.c_int(0), ctypes.c_double(0.1))"
   ]
  },
  {
   "cell_type": "code",
   "execution_count": 909,
   "id": "a781db67-8925-4d20-a9bf-3de32d982089",
   "metadata": {},
   "outputs": [
    {
     "data": {
      "text/plain": [
       "1"
      ]
     },
     "execution_count": 909,
     "metadata": {},
     "output_type": "execute_result"
    }
   ],
   "source": [
    "dwf.FDwfAnalogInBufferSizeSet(device_handle, ctypes.c_int(8192))"
   ]
  },
  {
   "cell_type": "code",
   "execution_count": 910,
   "id": "b64b8e58-c1f0-46b6-a1bf-8b57e145f5e3",
   "metadata": {},
   "outputs": [
    {
     "data": {
      "text/plain": [
       "1"
      ]
     },
     "execution_count": 910,
     "metadata": {},
     "output_type": "execute_result"
    }
   ],
   "source": [
    "dwf.FDwfAnalogInFrequencySet(device_handle, ctypes.c_double(20e06))"
   ]
  },
  {
   "cell_type": "code",
   "execution_count": 911,
   "id": "6fde2011-4ce5-4d7e-8fb2-363d4c7e9c1b",
   "metadata": {},
   "outputs": [
    {
     "data": {
      "text/plain": [
       "1"
      ]
     },
     "execution_count": 911,
     "metadata": {},
     "output_type": "execute_result"
    }
   ],
   "source": [
    "dwf.FDwfAnalogInChannelFilterSet(device_handle, ctypes.c_int(-1), constants.filterDecimate)"
   ]
  },
  {
   "cell_type": "code",
   "execution_count": 912,
   "id": "59a51f3f-8939-49fe-8870-61c9814a7f17",
   "metadata": {},
   "outputs": [
    {
     "name": "stdout",
     "output_type": "stream",
     "text": [
      "0.005735328579206937\n"
     ]
    }
   ],
   "source": [
    "# set up the instrument\n",
    "dwf.FDwfAnalogInConfigure(device_handle, ctypes.c_bool(False), ctypes.c_bool(False))\n",
    "\n",
    "# read data to an internal buffer\n",
    "dwf.FDwfAnalogInStatus(device_handle, ctypes.c_bool(False), ctypes.c_int(0))\n",
    "\n",
    "# extract data from that buffer\n",
    "voltage = ctypes.c_double()   # variable to store the measured voltage\n",
    "dwf.FDwfAnalogInStatusSample(device_handle, ctypes.c_int(1 - 1), ctypes.byref(voltage))\n",
    "\n",
    "# store the result as float\n",
    "voltage = voltage.value\n",
    "print(voltage)"
   ]
  },
  {
   "cell_type": "code",
   "execution_count": 913,
   "id": "978e1bee-8f22-483b-8eac-05e6419e1657",
   "metadata": {},
   "outputs": [
    {
     "data": {
      "text/plain": [
       "1"
      ]
     },
     "execution_count": 913,
     "metadata": {},
     "output_type": "execute_result"
    }
   ],
   "source": [
    "dwf.FDwfAnalogInTriggerAutoTimeoutSet(device_handle, ctypes.c_double(0))"
   ]
  },
  {
   "cell_type": "code",
   "execution_count": 914,
   "id": "34660a11-c9ba-45a9-845c-abbaf96a0750",
   "metadata": {},
   "outputs": [
    {
     "data": {
      "text/plain": [
       "1"
      ]
     },
     "execution_count": 914,
     "metadata": {},
     "output_type": "execute_result"
    }
   ],
   "source": [
    "dwf.FDwfAnalogInTriggerSourceSet(device_handle, trigger_source.analog)"
   ]
  },
  {
   "cell_type": "code",
   "execution_count": 915,
   "id": "c49c6d4b-f2a6-4d46-927d-b1eea655381d",
   "metadata": {},
   "outputs": [
    {
     "data": {
      "text/plain": [
       "1"
      ]
     },
     "execution_count": 915,
     "metadata": {},
     "output_type": "execute_result"
    }
   ],
   "source": [
    "dwf.FDwfAnalogInTriggerChannelSet(device_handle, ctypes.c_int(1))"
   ]
  },
  {
   "cell_type": "code",
   "execution_count": 916,
   "id": "46472172-9cd8-49a6-a479-03ce8450acfe",
   "metadata": {},
   "outputs": [
    {
     "data": {
      "text/plain": [
       "1"
      ]
     },
     "execution_count": 916,
     "metadata": {},
     "output_type": "execute_result"
    }
   ],
   "source": [
    "dwf.FDwfAnalogInTriggerTypeSet(device_handle, constants.trigtypeEdge)"
   ]
  },
  {
   "cell_type": "code",
   "execution_count": 917,
   "id": "b26f567c-6266-47d0-8e28-9643e812e184",
   "metadata": {},
   "outputs": [
    {
     "data": {
      "text/plain": [
       "1"
      ]
     },
     "execution_count": 917,
     "metadata": {},
     "output_type": "execute_result"
    }
   ],
   "source": [
    "dwf.FDwfAnalogInTriggerLevelSet(device_handle, ctypes.c_double(1))"
   ]
  },
  {
   "cell_type": "code",
   "execution_count": 918,
   "id": "49be6bad-a35b-4e22-a562-eacfb18f2756",
   "metadata": {},
   "outputs": [
    {
     "data": {
      "text/plain": [
       "1"
      ]
     },
     "execution_count": 918,
     "metadata": {},
     "output_type": "execute_result"
    }
   ],
   "source": [
    "dwf.FDwfAnalogInTriggerConditionSet(device_handle, constants.trigcondRisingPositive)"
   ]
  },
  {
   "cell_type": "code",
   "execution_count": 919,
   "id": "2a6084d7-3f5d-4be9-bcc1-60b113293b0c",
   "metadata": {},
   "outputs": [
    {
     "name": "stdout",
     "output_type": "stream",
     "text": [
      "4.9252524517089113e-05\n"
     ]
    }
   ],
   "source": [
    "# set up the instrument\n",
    "dwf.FDwfAnalogInConfigure(device_handle, ctypes.c_bool(False), ctypes.c_bool(False))\n",
    "\n",
    "# read data to an internal buffer\n",
    "dwf.FDwfAnalogInStatus(device_handle, ctypes.c_bool(False), ctypes.c_int(0))\n",
    "\n",
    "# extract data from that buffer\n",
    "voltage = ctypes.c_double()   # variable to store the measured voltage\n",
    "dwf.FDwfAnalogInStatusSample(device_handle, ctypes.c_int(1 - 1), ctypes.byref(voltage))\n",
    "\n",
    "# store the result as float\n",
    "voltage = voltage.value\n",
    "print(voltage)"
   ]
  },
  {
   "cell_type": "code",
   "execution_count": 920,
   "id": "00560794-c610-494c-895d-a4a2783237eb",
   "metadata": {},
   "outputs": [
    {
     "data": {
      "text/plain": [
       "1"
      ]
     },
     "execution_count": 920,
     "metadata": {},
     "output_type": "execute_result"
    }
   ],
   "source": [
    "dwf.FDwfAnalogInConfigure(device_handle, ctypes.c_bool(False), ctypes.c_bool(True))"
   ]
  },
  {
   "cell_type": "code",
   "execution_count": 54,
   "id": "fd4586c5-f159-4c13-91e9-71d1694f9c39",
   "metadata": {},
   "outputs": [
    {
     "name": "stdout",
     "output_type": "stream",
     "text": [
      "0\n"
     ]
    }
   ],
   "source": [
    "status = ctypes.c_byte()    # variable to store buffer status\n",
    "dwf.FDwfAnalogInStatus(device_handle, ctypes.c_bool(True), ctypes.byref(status))\n",
    "print(status.value)"
   ]
  },
  {
   "cell_type": "code",
   "execution_count": 922,
   "id": "3faae01e-fbed-4510-992b-cc67d02e3d30",
   "metadata": {},
   "outputs": [
    {
     "data": {
      "text/plain": [
       "2"
      ]
     },
     "execution_count": 922,
     "metadata": {},
     "output_type": "execute_result"
    }
   ],
   "source": [
    "constants.DwfStateDone.value"
   ]
  },
  {
   "cell_type": "code",
   "execution_count": 52,
   "id": "8b700ad7-4b06-4381-90d9-6bea3001026d",
   "metadata": {},
   "outputs": [],
   "source": [
    "\"\"\" OSCILLOSCOPE CONTROL FUNCTIONS: open, measure, trigger, record, close \"\"\"\n",
    "\n",
    "import ctypes                     # import the C compatible data types\n",
    "from sys import platform, path    # this is needed to check the OS type and get the PATH\n",
    "from os import sep                # OS specific file path separators\n",
    "\n",
    "# load the dynamic library, get constants path (the path is OS specific)\n",
    "if platform.startswith(\"win\"):\n",
    "    # on Windows\n",
    "    dwf = ctypes.cdll.dwf\n",
    "    constants_path = \"C:\" + sep + \"Program Files (x86)\" + sep + \"Digilent\" + sep + \"WaveFormsSDK\" + sep + \"samples\" + sep + \"py\"\n",
    "elif platform.startswith(\"darwin\"):\n",
    "    # on macOS\n",
    "    lib_path = sep + \"Library\" + sep + \"Frameworks\" + sep + \"dwf.framework\" + sep + \"dwf\"\n",
    "    dwf = ctypes.cdll.LoadLibrary(lib_path)\n",
    "    constants_path = sep + \"Applications\" + sep + \"WaveForms.app\" + sep + \"Contents\" + sep + \"Resources\" + sep + \"SDK\" + sep + \"samples\" + sep + \"py\"\n",
    "else:\n",
    "    # on Linux\n",
    "    dwf = ctypes.cdll.LoadLibrary(\"libdwf.so\")\n",
    "    constants_path = sep + \"usr\" + sep + \"share\" + sep + \"digilent\" + sep + \"waveforms\" + sep + \"samples\" + sep + \"py\"\n",
    "\n",
    "# import constants\n",
    "path.append(constants_path)\n",
    "import dwfconstants as constants\n",
    "\n",
    "\"\"\"-----------------------------------------------------------------------\"\"\"\n",
    "\n",
    "class trigger_source:\n",
    "    \"\"\" trigger source names \"\"\"\n",
    "    none = constants.trigsrcNone\n",
    "    analog = constants.trigsrcDetectorAnalogIn\n",
    "    digital = constants.trigsrcDetectorDigitalIn\n",
    "    external = [None, constants.trigsrcExternal1, constants.trigsrcExternal2, constants.trigsrcExternal3, constants.trigsrcExternal4]\n",
    "\n",
    "\"\"\"-----------------------------------------------------------------------\"\"\"\n",
    "\n",
    "def open(device_handle, sampling_frequency=20e06, buffer_size=8192, offset=0, amplitude_range=5):\n",
    "    \"\"\"\n",
    "        initialize the oscilloscope\n",
    "\n",
    "        parameters: - device handle\n",
    "                    - sampling frequency in Hz, default is 20MHz\n",
    "                    - buffer size, default is 8192\n",
    "                    - offset voltage in Volts, default is 0V\n",
    "                    - amplitude range in Volts, default is ±5V\n",
    "    \"\"\"\n",
    "    # enable all channels\n",
    "    dwf.FDwfAnalogInChannelEnableSet(device_handle, ctypes.c_int(0), ctypes.c_bool(True))\n",
    "    \n",
    "    # set offset voltage (in Volts)\n",
    "    dwf.FDwfAnalogInChannelOffsetSet(device_handle, ctypes.c_int(0), ctypes.c_double(offset))\n",
    "    \n",
    "    # set range (maximum signal amplitude in Volts)\n",
    "    dwf.FDwfAnalogInChannelRangeSet(device_handle, ctypes.c_int(0), ctypes.c_double(amplitude_range))\n",
    "    \n",
    "    # set the buffer size (data point in a recording)\n",
    "    dwf.FDwfAnalogInBufferSizeSet(device_handle, ctypes.c_int(buffer_size))\n",
    "    \n",
    "    # set the acquisition frequency (in Hz)\n",
    "    dwf.FDwfAnalogInFrequencySet(device_handle, ctypes.c_double(sampling_frequency))\n",
    "    \n",
    "    # disable averaging (for more info check the documentation)\n",
    "    dwf.FDwfAnalogInChannelFilterSet(device_handle, ctypes.c_int(-1), constants.filterDecimate)\n",
    "    return\n",
    "\n",
    "\"\"\"-----------------------------------------------------------------------\"\"\"\n",
    "\n",
    "def measure(device_handle, channel):\n",
    "    \"\"\"\n",
    "        measure a voltage\n",
    "\n",
    "        parameters: - device handler\n",
    "                    - the selected oscilloscope channel (1-2, or 1-4)\n",
    "        \n",
    "        returns:    - the measured voltage in Volts\n",
    "    \"\"\"\n",
    "    # set up the instrument\n",
    "    dwf.FDwfAnalogInConfigure(device_handle, ctypes.c_bool(False), ctypes.c_bool(False))\n",
    "    \n",
    "    # read data to an internal buffer\n",
    "    dwf.FDwfAnalogInStatus(device_handle, ctypes.c_bool(False), ctypes.c_int(0))\n",
    "    \n",
    "    # extract data from that buffer\n",
    "    voltage = ctypes.c_double()   # variable to store the measured voltage\n",
    "    dwf.FDwfAnalogInStatusSample(device_handle, ctypes.c_int(channel - 1), ctypes.byref(voltage))\n",
    "    \n",
    "    # store the result as float\n",
    "    voltage = voltage.value\n",
    "    return voltage\n",
    "\n",
    "\"\"\"-----------------------------------------------------------------------\"\"\"\n",
    "\n",
    "def trigger(device_handle, enable, source=trigger_source.none, channel=1, timeout=0, edge_rising=True, level=0):\n",
    "    \"\"\"\n",
    "        set up triggering\n",
    "\n",
    "        parameters: - device handle\n",
    "                    - enable / disable triggering with True/False\n",
    "                    - trigger source - possible: none, analog, digital, external[1-4]\n",
    "                    - trigger channel - possible options: 1-4 for analog, or 0-15 for digital\n",
    "                    - auto trigger timeout in seconds, default is 0\n",
    "                    - trigger edge rising - True means rising, False means falling, default is rising\n",
    "                    - trigger level in Volts, default is 0V\n",
    "    \"\"\"\n",
    "    if enable and source != constants.trigsrcNone:\n",
    "        # enable/disable auto triggering\n",
    "        dwf.FDwfAnalogInTriggerAutoTimeoutSet(device_handle, ctypes.c_double(timeout))\n",
    "\n",
    "        # set trigger source\n",
    "        dwf.FDwfAnalogInTriggerSourceSet(device_handle, source)\n",
    "\n",
    "        # set trigger channel\n",
    "        if source == constants.trigsrcDetectorAnalogIn:\n",
    "            channel -= 1    # decrement analog channel index\n",
    "        dwf.FDwfAnalogInTriggerChannelSet(device_handle, ctypes.c_int(channel))\n",
    "\n",
    "        # set trigger type\n",
    "        dwf.FDwfAnalogInTriggerTypeSet(device_handle, constants.trigtypeEdge)\n",
    "\n",
    "        # set trigger level\n",
    "        dwf.FDwfAnalogInTriggerLevelSet(device_handle, ctypes.c_double(level))\n",
    "\n",
    "        # set trigger edge\n",
    "        if edge_rising:\n",
    "            # rising edge\n",
    "            dwf.FDwfAnalogInTriggerConditionSet(device_handle, constants.trigcondRisingPositive)\n",
    "        else:\n",
    "            # falling edge\n",
    "            dwf.FDwfAnalogInTriggerConditionSet(device_handle, constants.trigcondFallingNegative)\n",
    "    else:\n",
    "        # turn off the trigger\n",
    "        dwf.FDwfAnalogInTriggerSourceSet(device_handle, constants.trigsrcNone)\n",
    "    return\n",
    "\n",
    "\"\"\"-----------------------------------------------------------------------\"\"\"\n",
    "\n",
    "def record(device_handle, channel, sampling_frequency=20e06, buffer_size=8192):\n",
    "    \"\"\"\n",
    "        record an analog signal\n",
    "\n",
    "        parameters: - device handle\n",
    "                    - the selected oscilloscope channel (1-2, or 1-4)\n",
    "                    - sampling frequency in Hz, default is 20MHz\n",
    "                    - buffer size, default is 8192\n",
    "\n",
    "        returns:    - buffer - a list with the recorded voltages\n",
    "                    - time - a list with the time moments for each voltage in seconds (with the same index as \"buffer\")\n",
    "    \"\"\"\n",
    "    # set up the instrument\n",
    "    dwf.FDwfAnalogInConfigure(device_handle, ctypes.c_bool(False), ctypes.c_bool(True))\n",
    "    \n",
    "    # read data to an internal buffer\n",
    "    while True:\n",
    "        status = ctypes.c_byte()    # variable to store buffer status\n",
    "        dwf.FDwfAnalogInStatus(device_handle, ctypes.c_bool(True), ctypes.byref(status))\n",
    "    \n",
    "        # check internal buffer status\n",
    "        if status.value == constants.DwfStateDone.value:\n",
    "                # exit loop when ready\n",
    "                break\n",
    "    \n",
    "    # copy buffer\n",
    "    buffer = (ctypes.c_double * buffer_size)()   # create an empty buffer\n",
    "    dwf.FDwfAnalogInStatusData(device_handle, ctypes.c_int(channel - 1), buffer, ctypes.c_int(buffer_size))\n",
    "    \n",
    "    # calculate aquisition time\n",
    "    time = range(0, buffer_size)\n",
    "    time = [moment / sampling_frequency for moment in time]\n",
    "    \n",
    "    # convert into list\n",
    "    buffer = [float(element) for element in buffer]\n",
    "    return buffer, time\n",
    "\n",
    "\"\"\"-----------------------------------------------------------------------\"\"\"\n",
    "\n",
    "def close(device_handle):\n",
    "    \"\"\"\n",
    "        reset the scope\n",
    "    \"\"\"\n",
    "    dwf.FDwfAnalogInReset(device_handle)\n",
    "    return"
   ]
  },
  {
   "cell_type": "code",
   "execution_count": 1261,
   "id": "5428837b-593b-4e27-9c53-9b637f103c7c",
   "metadata": {},
   "outputs": [],
   "source": [
    "open(device_handle)"
   ]
  },
  {
   "cell_type": "code",
   "execution_count": 1262,
   "id": "f8d05760-d7d1-4b77-a35d-5ace04e7833c",
   "metadata": {},
   "outputs": [
    {
     "data": {
      "text/plain": [
       "-0.0019575978477263875"
      ]
     },
     "execution_count": 1262,
     "metadata": {},
     "output_type": "execute_result"
    }
   ],
   "source": [
    "measure(device_handle, 1)"
   ]
  },
  {
   "cell_type": "code",
   "execution_count": 53,
   "id": "a796b101-818a-442c-b57e-0e9e334c6105",
   "metadata": {},
   "outputs": [],
   "source": [
    "trigger(device_handle, True, source=trigger_source.analog, channel=2, timeout=0, edge_rising=True, level=1)"
   ]
  },
  {
   "cell_type": "code",
   "execution_count": 1273,
   "id": "f1b25b97-e9ff-4d1d-8e3c-96618112fb63",
   "metadata": {},
   "outputs": [
    {
     "data": {
      "text/plain": [
       "0.003059528082882304"
      ]
     },
     "execution_count": 1273,
     "metadata": {},
     "output_type": "execute_result"
    }
   ],
   "source": [
    "measure(device_handle, 1)"
   ]
  },
  {
   "cell_type": "code",
   "execution_count": 1098,
   "id": "10ba8ce0-9914-4d90-93f5-64d001428ee8",
   "metadata": {},
   "outputs": [],
   "source": [
    "b, t = record(device_handle, 1, sampling_frequency=20e06, buffer_size=8192)"
   ]
  },
  {
   "cell_type": "code",
   "execution_count": 1099,
   "id": "2462312a-179b-4184-af1d-c7db3f53cac9",
   "metadata": {},
   "outputs": [
    {
     "data": {
      "text/plain": [
       "[<matplotlib.lines.Line2D at 0x1f8950c6700>]"
      ]
     },
     "execution_count": 1099,
     "metadata": {},
     "output_type": "execute_result"
    },
    {
     "data": {
      "image/png": "[encoded data removed]",
      "text/plain": [
       "<Figure size 432x288 with 1 Axes>"
      ]
     },
     "metadata": {
      "needs_background": "light"
     },
     "output_type": "display_data"
    }
   ],
   "source": [
    "plt.plot(t, b)"
   ]
  },
  {
   "cell_type": "code",
   "execution_count": 63,
   "id": "0a79e55e-e531-42f2-9045-7b926eafa20b",
   "metadata": {},
   "outputs": [
    {
     "name": "stdout",
     "output_type": "stream",
     "text": [
      "1\n"
     ]
    }
   ],
   "source": [
    "status = ctypes.c_byte()    # variable to store buffer status\n",
    "dwf.FDwfAnalogInStatus(device_handle, ctypes.c_bool(True), ctypes.byref(status))\n",
    "print(status.value)"
   ]
  },
  {
   "cell_type": "code",
   "execution_count": 57,
   "id": "8b4c4240-5792-491c-a6c1-3757cb4c2751",
   "metadata": {},
   "outputs": [
    {
     "data": {
      "text/plain": [
       "1"
      ]
     },
     "execution_count": 57,
     "metadata": {},
     "output_type": "execute_result"
    }
   ],
   "source": [
    "dwf.FDwfAnalogInConfigure(device_handle, ctypes.c_bool(False), ctypes.c_bool(True))"
   ]
  },
  {
   "cell_type": "code",
   "execution_count": 58,
   "id": "7f968a99-93fc-4c6c-99d3-b3c4b61e1e78",
   "metadata": {},
   "outputs": [
    {
     "data": {
      "text/plain": [
       "1"
      ]
     },
     "execution_count": 58,
     "metadata": {},
     "output_type": "execute_result"
    }
   ],
   "source": [
    "dwf.FDwfAnalogInConfigure(device_handle, ctypes.c_bool(False), ctypes.c_bool(True))"
   ]
  },
  {
   "cell_type": "code",
   "execution_count": null,
   "id": "81554329-1598-41c3-a576-bdc6bab7942b",
   "metadata": {},
   "outputs": [],
   "source": []
  }
 ],
 "metadata": {
  "kernelspec": {
   "display_name": "Python 3 (ipykernel)",
   "language": "python",
   "name": "python3"
  },
  "language_info": {
   "codemirror_mode": {
    "name": "ipython",
    "version": 3
   },
   "file_extension": ".py",
   "mimetype": "text/x-python",
   "name": "python",
   "nbconvert_exporter": "python",
   "pygments_lexer": "ipython3",
   "version": "3.8.10"
  }
 },
 "nbformat": 4,
 "nbformat_minor": 5
}
